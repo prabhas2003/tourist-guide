{
 "cells": [
  {
   "cell_type": "code",
   "execution_count": 1,
   "metadata": {},
   "outputs": [
    {
     "name": "stderr",
     "output_type": "stream",
     "text": [
      "C:\\Anaconda\\lib\\site-packages\\h5py\\__init__.py:36: FutureWarning: Conversion of the second argument of issubdtype from `float` to `np.floating` is deprecated. In future, it will be treated as `np.float64 == np.dtype(float).type`.\n",
      "  from ._conv import register_converters as _register_converters\n",
      "Using TensorFlow backend.\n"
     ]
    }
   ],
   "source": [
    "import numpy as np\n",
    "import matplotlib.pyplot as plt\n",
    "from keras import Sequential\n",
    "from keras.layers import Dropout,Conv2D,MaxPool2D,Flatten,Dense\n",
    "from keras.callbacks import ReduceLROnPlateau,EarlyStopping\n",
    "from keras.losses import categorical_crossentropy\n",
    "from keras.optimizers import Adam\n",
    "import os\n",
    "import cv2"
   ]
  },
  {
   "cell_type": "code",
   "execution_count": 2,
   "metadata": {},
   "outputs": [],
   "source": [
    "from sklearn.preprocessing import LabelEncoder"
   ]
  },
  {
   "cell_type": "code",
   "execution_count": 3,
   "metadata": {},
   "outputs": [],
   "source": [
    "from keras.utils import to_categorical"
   ]
  },
  {
   "cell_type": "code",
   "execution_count": 4,
   "metadata": {},
   "outputs": [],
   "source": [
    "DATA_DIR = 'dataset'"
   ]
  },
  {
   "cell_type": "code",
   "execution_count": 4,
   "metadata": {},
   "outputs": [],
   "source": [
    "IMAGE_WIDTH = 50\n",
    "IMAGE_HEIGHT = 50"
   ]
  },
  {
   "cell_type": "code",
   "execution_count": 6,
   "metadata": {},
   "outputs": [],
   "source": [
    "classes = os.listdir(DATA_DIR)"
   ]
  },
  {
   "cell_type": "code",
   "execution_count": 9,
   "metadata": {},
   "outputs": [
    {
     "data": {
      "text/plain": [
       "['AGONDA_BEACH',\n",
       " 'ANJUNA_WEDNESDAY_MARKET',\n",
       " 'ARAMBOL_HIPPIE_FESTIVAL',\n",
       " 'ASILICA_OF_BOM_JESUS',\n",
       " 'BAGA_BEACH',\n",
       " 'CASINO_IN_PANJIM',\n",
       " 'CHAPORA_FORT',\n",
       " 'CHURCH_OF_OUR_LADY_OF_IMMACULATE_CONCEPTION',\n",
       " 'DUDHSAGAR_FALLS',\n",
       " 'FORT_AGUADA',\n",
       " 'FORT_CABO_DE_RAMA',\n",
       " 'GO_KART_RACING',\n",
       " 'GRANDE_ISLAND',\n",
       " 'HALASSA_RESTAURANT',\n",
       " 'HILL_TOP_CLUB_IN_ANJUNA',\n",
       " 'LATIN_QUARTER',\n",
       " 'NAVAL_AVIATION_MUSEUM',\n",
       " 'PARAGLIDING_IN_ARAMBOL',\n",
       " 'TEREKHOL_FORT']"
      ]
     },
     "execution_count": 9,
     "metadata": {},
     "output_type": "execute_result"
    }
   ],
   "source": [
    "classes"
   ]
  },
  {
   "cell_type": "code",
   "execution_count": 10,
   "metadata": {},
   "outputs": [
    {
     "data": {
      "text/plain": [
       "LabelEncoder()"
      ]
     },
     "execution_count": 10,
     "metadata": {},
     "output_type": "execute_result"
    }
   ],
   "source": [
    "le = LabelEncoder()\n",
    "le.fit(classes)"
   ]
  },
  {
   "cell_type": "code",
   "execution_count": 12,
   "metadata": {},
   "outputs": [
    {
     "name": "stdout",
     "output_type": "stream",
     "text": [
      "Error Occured at: dataset\\FORT_CABO_DE_RAMA\\FORT_CABO_DE_RAMA29.jpg unsupported operand type(s) for /: 'NoneType' and 'int'\n",
      "Error Occured at: dataset\\FORT_CABO_DE_RAMA\\FORT_CABO_DE_RAMA4.jpg unsupported operand type(s) for /: 'NoneType' and 'int'\n",
      "Error Occured at: dataset\\FORT_CABO_DE_RAMA\\FORT_CABO_DE_RAMA8.jpg unsupported operand type(s) for /: 'NoneType' and 'int'\n",
      "Error Occured at: dataset\\HALASSA_RESTAURANT\\HALASSA_RESTAURANT11.jpg unsupported operand type(s) for /: 'NoneType' and 'int'\n",
      "Error Occured at: dataset\\LATIN_QUARTER\\LATIN_QUARTER51.jpg unsupported operand type(s) for /: 'NoneType' and 'int'\n",
      "Error Occured at: dataset\\PARAGLIDING_IN_ARAMBOL\\PARAGLIDING_IN_ARAMBOL22.jpg unsupported operand type(s) for /: 'NoneType' and 'int'\n",
      "Error Occured at: dataset\\PARAGLIDING_IN_ARAMBOL\\PARAGLIDING_IN_ARAMBOL91.jpg unsupported operand type(s) for /: 'NoneType' and 'int'\n",
      "Error Occured at: dataset\\PARAGLIDING_IN_ARAMBOL\\PARAGLIDING_IN_ARAMBOL93.jpg unsupported operand type(s) for /: 'NoneType' and 'int'\n"
     ]
    }
   ],
   "source": [
    "X = []\n",
    "y = []\n",
    "for class_ in classes:\n",
    "    path = os.path.join(DATA_DIR,class_)\n",
    "    for image in os.listdir(path):\n",
    "        try:\n",
    "            img_path = os.path.join(path,image)\n",
    "            img = cv2.imread(img_path,cv2.IMREAD_GRAYSCALE)/255\n",
    "            img = cv2.resize(img,(IMAGE_WIDTH,IMAGE_HEIGHT))\n",
    "            X.append(img)\n",
    "            y.append(le.transform([class_]))\n",
    "        except Exception as e:\n",
    "            print(\"Error Occured at:\",img_path,e)"
   ]
  },
  {
   "cell_type": "code",
   "execution_count": 14,
   "metadata": {},
   "outputs": [],
   "source": [
    "X = np.array(X)\n",
    "y = np.array(y)"
   ]
  },
  {
   "cell_type": "code",
   "execution_count": 16,
   "metadata": {},
   "outputs": [],
   "source": [
    "y_cat = to_categorical(y)"
   ]
  },
  {
   "cell_type": "code",
   "execution_count": 17,
   "metadata": {},
   "outputs": [],
   "source": [
    "model = Sequential()\n",
    "model.add(Flatten(input_shape=(50,50)))\n",
    "model.add(Dense(128,activation='relu'))\n",
    "model.add(Dense(19,activation='softmax'))"
   ]
  },
  {
   "cell_type": "code",
   "execution_count": 18,
   "metadata": {},
   "outputs": [],
   "source": [
    "model.compile(optimizer=Adam(lr=0.0001),loss=categorical_crossentropy,metrics=['acc'])"
   ]
  },
  {
   "cell_type": "code",
   "execution_count": null,
   "metadata": {},
   "outputs": [],
   "source": [
    "# early_stopping = EarlyStopping(patience=100)"
   ]
  },
  {
   "cell_type": "code",
   "execution_count": 21,
   "metadata": {
    "scrolled": false
   },
   "outputs": [
    {
     "name": "stdout",
     "output_type": "stream",
     "text": [
      "Train on 1530 samples, validate on 171 samples\n",
      "Epoch 1/300\n",
      "1530/1530 [==============================] - 16s 10ms/step - loss: 2.8618 - acc: 0.0850 - val_loss: 4.9443 - val_acc: 0.0000e+00\n",
      "Epoch 2/300\n",
      "1530/1530 [==============================] - 0s 223us/step - loss: 2.7240 - acc: 0.1451 - val_loss: 5.3419 - val_acc: 0.0000e+00\n",
      "Epoch 3/300\n",
      "1530/1530 [==============================] - 0s 224us/step - loss: 2.6532 - acc: 0.1680 - val_loss: 5.6317 - val_acc: 0.0000e+00\n",
      "Epoch 4/300\n",
      "1530/1530 [==============================] - 0s 223us/step - loss: 2.6130 - acc: 0.1778 - val_loss: 5.5786 - val_acc: 0.0000e+00\n",
      "Epoch 5/300\n",
      "1530/1530 [==============================] - 0s 225us/step - loss: 2.5488 - acc: 0.2176 - val_loss: 6.1689 - val_acc: 0.0000e+00\n",
      "Epoch 6/300\n",
      "1530/1530 [==============================] - 0s 220us/step - loss: 2.5149 - acc: 0.2386 - val_loss: 6.0416 - val_acc: 0.0000e+00\n",
      "Epoch 7/300\n",
      "1530/1530 [==============================] - 0s 270us/step - loss: 2.4725 - acc: 0.2412 - val_loss: 6.3691 - val_acc: 0.0000e+00\n",
      "Epoch 8/300\n",
      "1530/1530 [==============================] - 0s 315us/step - loss: 2.4308 - acc: 0.2693 - val_loss: 6.2511 - val_acc: 0.0000e+00\n",
      "Epoch 9/300\n",
      "1530/1530 [==============================] - 0s 300us/step - loss: 2.3909 - acc: 0.2712 - val_loss: 6.3005 - val_acc: 0.0000e+00\n",
      "Epoch 10/300\n",
      "1530/1530 [==============================] - 0s 304us/step - loss: 2.3641 - acc: 0.2876 - val_loss: 6.5434 - val_acc: 0.0000e+00\n",
      "Epoch 11/300\n",
      "1530/1530 [==============================] - 0s 288us/step - loss: 2.3361 - acc: 0.3065 - val_loss: 6.5712 - val_acc: 0.0000e+00\n",
      "Epoch 12/300\n",
      "1530/1530 [==============================] - 0s 294us/step - loss: 2.3061 - acc: 0.3098 - val_loss: 6.8116 - val_acc: 0.0000e+00\n",
      "Epoch 13/300\n",
      "1530/1530 [==============================] - 0s 298us/step - loss: 2.2796 - acc: 0.3203 - val_loss: 6.8565 - val_acc: 0.0000e+00\n",
      "Epoch 14/300\n",
      "1530/1530 [==============================] - 0s 290us/step - loss: 2.2427 - acc: 0.3412 - val_loss: 6.9838 - val_acc: 0.0000e+00\n",
      "Epoch 15/300\n",
      "1530/1530 [==============================] - 0s 301us/step - loss: 2.2111 - acc: 0.3556 - val_loss: 7.1743 - val_acc: 0.0000e+00\n",
      "Epoch 16/300\n",
      "1530/1530 [==============================] - 0s 293us/step - loss: 2.1857 - acc: 0.3562 - val_loss: 6.9419 - val_acc: 0.0000e+00\n",
      "Epoch 17/300\n",
      "1530/1530 [==============================] - 0s 297us/step - loss: 2.1789 - acc: 0.3536 - val_loss: 7.0533 - val_acc: 0.0000e+00\n",
      "Epoch 18/300\n",
      "1530/1530 [==============================] - 0s 289us/step - loss: 2.1544 - acc: 0.3745 - val_loss: 7.1774 - val_acc: 0.0000e+00\n",
      "Epoch 19/300\n",
      "1530/1530 [==============================] - 0s 298us/step - loss: 2.1206 - acc: 0.3869 - val_loss: 7.2062 - val_acc: 0.0000e+00\n",
      "Epoch 20/300\n",
      "1530/1530 [==============================] - 0s 295us/step - loss: 2.0966 - acc: 0.3810 - val_loss: 7.5089 - val_acc: 0.0000e+00\n",
      "Epoch 21/300\n",
      "1530/1530 [==============================] - 0s 298us/step - loss: 2.0742 - acc: 0.3889 - val_loss: 7.3303 - val_acc: 0.0000e+00\n",
      "Epoch 22/300\n",
      "1530/1530 [==============================] - 0s 302us/step - loss: 2.0375 - acc: 0.4137 - val_loss: 7.4634 - val_acc: 0.0000e+00\n",
      "Epoch 23/300\n",
      "1530/1530 [==============================] - 0s 290us/step - loss: 2.0045 - acc: 0.4255 - val_loss: 7.3701 - val_acc: 0.0000e+00\n",
      "Epoch 24/300\n",
      "1530/1530 [==============================] - 0s 303us/step - loss: 1.9831 - acc: 0.4392 - val_loss: 7.5140 - val_acc: 0.0000e+00\n",
      "Epoch 25/300\n",
      "1530/1530 [==============================] - 0s 292us/step - loss: 1.9685 - acc: 0.4516 - val_loss: 7.5928 - val_acc: 0.0000e+00\n",
      "Epoch 26/300\n",
      "1530/1530 [==============================] - 0s 296us/step - loss: 1.9526 - acc: 0.4399 - val_loss: 7.3567 - val_acc: 0.0000e+00\n",
      "Epoch 27/300\n",
      "1530/1530 [==============================] - 0s 297us/step - loss: 1.9131 - acc: 0.4725 - val_loss: 7.2815 - val_acc: 0.0000e+00\n",
      "Epoch 28/300\n",
      "1530/1530 [==============================] - 0s 300us/step - loss: 1.9116 - acc: 0.4758 - val_loss: 7.5530 - val_acc: 0.0000e+00\n",
      "Epoch 29/300\n",
      "1530/1530 [==============================] - 0s 290us/step - loss: 1.8725 - acc: 0.4876 - val_loss: 7.6310 - val_acc: 0.0000e+00\n",
      "Epoch 30/300\n",
      "1530/1530 [==============================] - 0s 297us/step - loss: 1.8514 - acc: 0.4922 - val_loss: 7.7123 - val_acc: 0.0000e+00\n",
      "Epoch 31/300\n",
      "1530/1530 [==============================] - 0s 301us/step - loss: 1.8359 - acc: 0.5111 - val_loss: 7.7827 - val_acc: 0.0000e+00\n",
      "Epoch 32/300\n",
      "1530/1530 [==============================] - 0s 294us/step - loss: 1.8128 - acc: 0.5065 - val_loss: 7.7761 - val_acc: 0.0000e+00\n",
      "Epoch 33/300\n",
      "1530/1530 [==============================] - 0s 295us/step - loss: 1.7898 - acc: 0.5170 - val_loss: 7.8776 - val_acc: 0.0000e+00\n",
      "Epoch 34/300\n",
      "1530/1530 [==============================] - 0s 299us/step - loss: 1.7737 - acc: 0.5301 - val_loss: 8.1230 - val_acc: 0.0000e+00\n",
      "Epoch 35/300\n",
      "1530/1530 [==============================] - 0s 297us/step - loss: 1.7565 - acc: 0.5333 - val_loss: 7.7362 - val_acc: 0.0000e+00\n",
      "Epoch 36/300\n",
      "1530/1530 [==============================] - 0s 283us/step - loss: 1.7161 - acc: 0.5542 - val_loss: 8.0221 - val_acc: 0.0000e+00\n",
      "Epoch 37/300\n",
      "1530/1530 [==============================] - 0s 304us/step - loss: 1.6975 - acc: 0.5562 - val_loss: 7.8653 - val_acc: 0.0000e+00\n",
      "Epoch 38/300\n",
      "1530/1530 [==============================] - 0s 301us/step - loss: 1.6791 - acc: 0.5536 - val_loss: 8.0931 - val_acc: 0.0000e+00\n",
      "Epoch 39/300\n",
      "1530/1530 [==============================] - 0s 304us/step - loss: 1.6597 - acc: 0.5745 - val_loss: 8.0305 - val_acc: 0.0000e+00\n",
      "Epoch 40/300\n",
      "1530/1530 [==============================] - 0s 310us/step - loss: 1.6377 - acc: 0.5810 - val_loss: 7.8800 - val_acc: 0.0000e+00\n",
      "Epoch 41/300\n",
      "1530/1530 [==============================] - 1s 328us/step - loss: 1.6195 - acc: 0.5889 - val_loss: 8.0285 - val_acc: 0.0000e+00\n",
      "Epoch 42/300\n",
      "1530/1530 [==============================] - 0s 294us/step - loss: 1.6001 - acc: 0.5987 - val_loss: 8.0014 - val_acc: 0.0000e+00\n",
      "Epoch 43/300\n",
      "1530/1530 [==============================] - 0s 296us/step - loss: 1.5897 - acc: 0.5987 - val_loss: 8.0862 - val_acc: 0.0000e+00\n",
      "Epoch 44/300\n",
      "1530/1530 [==============================] - 0s 299us/step - loss: 1.5610 - acc: 0.6078 - val_loss: 8.0699 - val_acc: 0.0000e+00\n",
      "Epoch 45/300\n",
      "1530/1530 [==============================] - 0s 306us/step - loss: 1.5493 - acc: 0.6242 - val_loss: 8.4834 - val_acc: 0.0000e+00\n",
      "Epoch 46/300\n",
      "1530/1530 [==============================] - 0s 296us/step - loss: 1.5238 - acc: 0.6203 - val_loss: 8.1000 - val_acc: 0.0000e+00\n",
      "Epoch 47/300\n",
      "1530/1530 [==============================] - 0s 298us/step - loss: 1.5077 - acc: 0.6346 - val_loss: 8.2376 - val_acc: 0.0000e+00\n",
      "Epoch 48/300\n",
      "1530/1530 [==============================] - 0s 291us/step - loss: 1.4903 - acc: 0.6327 - val_loss: 8.3333 - val_acc: 0.0000e+00\n",
      "Epoch 49/300\n",
      "1530/1530 [==============================] - 0s 301us/step - loss: 1.4832 - acc: 0.6314 - val_loss: 8.3209 - val_acc: 0.0000e+00\n",
      "Epoch 50/300\n",
      "1530/1530 [==============================] - 0s 296us/step - loss: 1.4580 - acc: 0.6588 - val_loss: 8.3626 - val_acc: 0.0000e+00\n",
      "Epoch 51/300\n",
      "1530/1530 [==============================] - 0s 293us/step - loss: 1.4337 - acc: 0.6634 - val_loss: 8.6787 - val_acc: 0.0000e+00\n",
      "Epoch 52/300\n",
      "1530/1530 [==============================] - 0s 294us/step - loss: 1.4067 - acc: 0.6850 - val_loss: 8.5182 - val_acc: 0.0000e+00\n",
      "Epoch 53/300\n",
      "1530/1530 [==============================] - 0s 326us/step - loss: 1.3875 - acc: 0.6876 - val_loss: 8.6758 - val_acc: 0.0000e+00\n",
      "Epoch 54/300\n",
      "1530/1530 [==============================] - 0s 296us/step - loss: 1.3817 - acc: 0.6804 - val_loss: 8.6347 - val_acc: 0.0000e+00\n",
      "Epoch 55/300\n",
      "1530/1530 [==============================] - 0s 295us/step - loss: 1.3572 - acc: 0.7033 - val_loss: 8.6500 - val_acc: 0.0000e+00\n",
      "Epoch 56/300\n",
      "1530/1530 [==============================] - 0s 300us/step - loss: 1.3428 - acc: 0.6889 - val_loss: 8.6335 - val_acc: 0.0000e+00\n",
      "Epoch 57/300\n",
      "1530/1530 [==============================] - 0s 312us/step - loss: 1.3413 - acc: 0.6869 - val_loss: 8.6433 - val_acc: 0.0000e+00\n",
      "Epoch 58/300\n",
      "1530/1530 [==============================] - 0s 311us/step - loss: 1.3017 - acc: 0.7222 - val_loss: 8.7527 - val_acc: 0.0000e+00\n",
      "Epoch 59/300\n",
      "1530/1530 [==============================] - 0s 311us/step - loss: 1.2934 - acc: 0.7157 - val_loss: 8.8499 - val_acc: 0.0000e+00\n",
      "Epoch 60/300\n",
      "1530/1530 [==============================] - 0s 304us/step - loss: 1.2728 - acc: 0.7183 - val_loss: 8.9523 - val_acc: 0.0000e+00\n",
      "Epoch 61/300\n",
      "1530/1530 [==============================] - 0s 295us/step - loss: 1.2671 - acc: 0.7242 - val_loss: 9.0620 - val_acc: 0.0000e+00\n",
      "Epoch 62/300\n",
      "1530/1530 [==============================] - 0s 291us/step - loss: 1.2531 - acc: 0.7353 - val_loss: 8.9569 - val_acc: 0.0000e+00\n",
      "Epoch 63/300\n",
      "1530/1530 [==============================] - 0s 298us/step - loss: 1.2138 - acc: 0.7601 - val_loss: 9.0235 - val_acc: 0.0000e+00\n",
      "Epoch 64/300\n",
      "1530/1530 [==============================] - 0s 293us/step - loss: 1.2094 - acc: 0.7392 - val_loss: 9.3657 - val_acc: 0.0000e+00\n",
      "Epoch 65/300\n",
      "1530/1530 [==============================] - 0s 297us/step - loss: 1.1931 - acc: 0.7542 - val_loss: 8.9278 - val_acc: 0.0000e+00\n",
      "Epoch 66/300\n",
      "1530/1530 [==============================] - 0s 296us/step - loss: 1.1796 - acc: 0.7503 - val_loss: 9.1301 - val_acc: 0.0000e+00\n",
      "Epoch 67/300\n",
      "1530/1530 [==============================] - 0s 294us/step - loss: 1.1630 - acc: 0.7647 - val_loss: 9.0849 - val_acc: 0.0000e+00\n",
      "Epoch 68/300\n",
      "1530/1530 [==============================] - 0s 295us/step - loss: 1.1451 - acc: 0.7686 - val_loss: 9.2818 - val_acc: 0.0000e+00\n",
      "Epoch 69/300\n",
      "1530/1530 [==============================] - 0s 296us/step - loss: 1.1180 - acc: 0.7915 - val_loss: 9.1501 - val_acc: 0.0000e+00\n",
      "Epoch 70/300\n",
      "1530/1530 [==============================] - 0s 291us/step - loss: 1.1071 - acc: 0.7908 - val_loss: 9.3985 - val_acc: 0.0000e+00\n",
      "Epoch 71/300\n",
      "1530/1530 [==============================] - 0s 308us/step - loss: 1.0908 - acc: 0.7967 - val_loss: 9.1620 - val_acc: 0.0000e+00\n",
      "Epoch 72/300\n",
      "1530/1530 [==============================] - 0s 295us/step - loss: 1.0854 - acc: 0.8033 - val_loss: 9.3276 - val_acc: 0.0000e+00\n",
      "Epoch 73/300\n",
      "1530/1530 [==============================] - 0s 308us/step - loss: 1.0634 - acc: 0.8039 - val_loss: 9.4169 - val_acc: 0.0000e+00\n",
      "Epoch 74/300\n",
      "1530/1530 [==============================] - 0s 297us/step - loss: 1.0541 - acc: 0.8105 - val_loss: 9.3494 - val_acc: 0.0000e+00\n",
      "Epoch 75/300\n",
      "1530/1530 [==============================] - 0s 299us/step - loss: 1.0456 - acc: 0.8059 - val_loss: 9.3925 - val_acc: 0.0000e+00\n",
      "Epoch 76/300\n",
      "1530/1530 [==============================] - 0s 304us/step - loss: 1.0204 - acc: 0.8144 - val_loss: 9.3385 - val_acc: 0.0000e+00\n",
      "Epoch 77/300\n",
      "1530/1530 [==============================] - 0s 292us/step - loss: 1.0217 - acc: 0.8235 - val_loss: 9.3376 - val_acc: 0.0000e+00\n",
      "Epoch 78/300\n",
      "1530/1530 [==============================] - 0s 296us/step - loss: 0.9827 - acc: 0.8366 - val_loss: 9.4865 - val_acc: 0.0000e+00\n",
      "Epoch 79/300\n",
      "1530/1530 [==============================] - 0s 292us/step - loss: 0.9862 - acc: 0.8327 - val_loss: 9.5556 - val_acc: 0.0000e+00\n",
      "Epoch 80/300\n",
      "1530/1530 [==============================] - 0s 293us/step - loss: 0.9714 - acc: 0.8307 - val_loss: 9.7845 - val_acc: 0.0000e+00\n",
      "Epoch 81/300\n",
      "1530/1530 [==============================] - 0s 293us/step - loss: 0.9570 - acc: 0.8386 - val_loss: 9.7532 - val_acc: 0.0000e+00\n",
      "Epoch 82/300\n",
      "1530/1530 [==============================] - 0s 294us/step - loss: 0.9373 - acc: 0.8399 - val_loss: 9.6429 - val_acc: 0.0000e+00\n",
      "Epoch 83/300\n",
      "1530/1530 [==============================] - 0s 296us/step - loss: 0.9342 - acc: 0.8431 - val_loss: 9.4214 - val_acc: 0.0000e+00\n",
      "Epoch 84/300\n",
      "1530/1530 [==============================] - 0s 294us/step - loss: 0.9141 - acc: 0.8464 - val_loss: 9.6428 - val_acc: 0.0000e+00\n",
      "Epoch 85/300\n",
      "1530/1530 [==============================] - 0s 294us/step - loss: 0.9018 - acc: 0.8484 - val_loss: 9.9251 - val_acc: 0.0000e+00\n",
      "Epoch 86/300\n",
      "1530/1530 [==============================] - 0s 294us/step - loss: 0.9039 - acc: 0.8444 - val_loss: 9.7392 - val_acc: 0.0000e+00\n",
      "Epoch 87/300\n",
      "1530/1530 [==============================] - 0s 294us/step - loss: 0.8804 - acc: 0.8529 - val_loss: 9.6870 - val_acc: 0.0000e+00\n",
      "Epoch 88/300\n",
      "1530/1530 [==============================] - 0s 320us/step - loss: 0.8722 - acc: 0.8562 - val_loss: 9.5973 - val_acc: 0.0000e+00\n",
      "Epoch 89/300\n",
      "1530/1530 [==============================] - 0s 297us/step - loss: 0.8496 - acc: 0.8719 - val_loss: 10.1518 - val_acc: 0.0000e+00\n",
      "Epoch 90/300\n",
      "1530/1530 [==============================] - 0s 297us/step - loss: 0.8353 - acc: 0.8719 - val_loss: 9.9075 - val_acc: 0.0000e+00\n",
      "Epoch 91/300\n",
      "1530/1530 [==============================] - 0s 294us/step - loss: 0.8360 - acc: 0.8673 - val_loss: 9.6621 - val_acc: 0.0000e+00\n",
      "Epoch 92/300\n",
      "1530/1530 [==============================] - 0s 302us/step - loss: 0.8134 - acc: 0.8771 - val_loss: 9.8717 - val_acc: 0.0000e+00\n",
      "Epoch 93/300\n",
      "1530/1530 [==============================] - 0s 295us/step - loss: 0.8047 - acc: 0.8830 - val_loss: 9.8364 - val_acc: 0.0000e+00\n",
      "Epoch 94/300\n",
      "1530/1530 [==============================] - 0s 300us/step - loss: 0.7931 - acc: 0.8784 - val_loss: 10.0681 - val_acc: 0.0000e+00\n",
      "Epoch 95/300\n",
      "1530/1530 [==============================] - 0s 295us/step - loss: 0.7840 - acc: 0.8817 - val_loss: 10.2221 - val_acc: 0.0000e+00\n",
      "Epoch 96/300\n",
      "1530/1530 [==============================] - 0s 292us/step - loss: 0.7778 - acc: 0.8837 - val_loss: 10.0060 - val_acc: 0.0000e+00\n",
      "Epoch 97/300\n",
      "1530/1530 [==============================] - 0s 297us/step - loss: 0.7586 - acc: 0.8974 - val_loss: 10.0556 - val_acc: 0.0000e+00\n",
      "Epoch 98/300\n",
      "1530/1530 [==============================] - 0s 293us/step - loss: 0.7530 - acc: 0.8935 - val_loss: 9.9606 - val_acc: 0.0000e+00\n",
      "Epoch 99/300\n",
      "1530/1530 [==============================] - 0s 299us/step - loss: 0.7301 - acc: 0.9039 - val_loss: 10.3020 - val_acc: 0.0000e+00\n",
      "Epoch 100/300\n",
      "1530/1530 [==============================] - 0s 296us/step - loss: 0.7292 - acc: 0.8980 - val_loss: 9.9682 - val_acc: 0.0000e+00\n",
      "Epoch 101/300\n",
      "1530/1530 [==============================] - 0s 298us/step - loss: 0.7176 - acc: 0.8980 - val_loss: 9.9714 - val_acc: 0.0000e+00\n",
      "Epoch 102/300\n",
      "1530/1530 [==============================] - 0s 300us/step - loss: 0.7046 - acc: 0.9013 - val_loss: 10.0739 - val_acc: 0.0000e+00\n",
      "Epoch 103/300\n",
      "1530/1530 [==============================] - 0s 298us/step - loss: 0.6942 - acc: 0.9052 - val_loss: 10.0072 - val_acc: 0.0000e+00\n",
      "Epoch 104/300\n",
      "1530/1530 [==============================] - 0s 297us/step - loss: 0.6891 - acc: 0.9137 - val_loss: 10.4967 - val_acc: 0.0000e+00\n",
      "Epoch 105/300\n",
      "1530/1530 [==============================] - 0s 298us/step - loss: 0.6819 - acc: 0.9118 - val_loss: 10.2105 - val_acc: 0.0000e+00\n",
      "Epoch 106/300\n",
      "1530/1530 [==============================] - 0s 298us/step - loss: 0.6607 - acc: 0.9196 - val_loss: 10.0607 - val_acc: 0.0000e+00\n",
      "Epoch 107/300\n",
      "1530/1530 [==============================] - 0s 290us/step - loss: 0.6537 - acc: 0.9163 - val_loss: 10.1111 - val_acc: 0.0000e+00\n",
      "Epoch 108/300\n",
      "1530/1530 [==============================] - 0s 304us/step - loss: 0.6454 - acc: 0.9242 - val_loss: 10.2820 - val_acc: 0.0000e+00\n",
      "Epoch 109/300\n",
      "1530/1530 [==============================] - 0s 294us/step - loss: 0.6299 - acc: 0.9235 - val_loss: 10.2622 - val_acc: 0.0000e+00\n",
      "Epoch 110/300\n",
      "1530/1530 [==============================] - 0s 294us/step - loss: 0.6240 - acc: 0.9229 - val_loss: 10.0695 - val_acc: 0.0000e+00\n",
      "Epoch 111/300\n",
      "1530/1530 [==============================] - 0s 302us/step - loss: 0.6141 - acc: 0.9261 - val_loss: 10.3026 - val_acc: 0.0000e+00\n",
      "Epoch 112/300\n",
      "1530/1530 [==============================] - 0s 298us/step - loss: 0.6008 - acc: 0.9288 - val_loss: 10.1899 - val_acc: 0.0000e+00\n",
      "Epoch 113/300\n",
      "1530/1530 [==============================] - 0s 302us/step - loss: 0.5956 - acc: 0.9307 - val_loss: 10.5057 - val_acc: 0.0000e+00\n",
      "Epoch 114/300\n",
      "1530/1530 [==============================] - 0s 299us/step - loss: 0.5901 - acc: 0.9294 - val_loss: 10.4917 - val_acc: 0.0000e+00\n",
      "Epoch 115/300\n"
     ]
    },
    {
     "name": "stdout",
     "output_type": "stream",
     "text": [
      "1530/1530 [==============================] - 0s 289us/step - loss: 0.5766 - acc: 0.9392 - val_loss: 10.4455 - val_acc: 0.0000e+00\n",
      "Epoch 116/300\n",
      "1530/1530 [==============================] - 0s 295us/step - loss: 0.5649 - acc: 0.9366 - val_loss: 10.4213 - val_acc: 0.0000e+00\n",
      "Epoch 117/300\n",
      "1530/1530 [==============================] - 0s 283us/step - loss: 0.5705 - acc: 0.9353 - val_loss: 9.9844 - val_acc: 0.0058\n",
      "Epoch 118/300\n",
      "1530/1530 [==============================] - 0s 302us/step - loss: 0.5555 - acc: 0.9405 - val_loss: 10.3391 - val_acc: 0.0000e+00\n",
      "Epoch 119/300\n",
      "1530/1530 [==============================] - 0s 292us/step - loss: 0.5509 - acc: 0.9412 - val_loss: 10.3827 - val_acc: 0.0000e+00\n",
      "Epoch 120/300\n",
      "1530/1530 [==============================] - 0s 295us/step - loss: 0.5413 - acc: 0.9379 - val_loss: 10.5028 - val_acc: 0.0000e+00\n",
      "Epoch 121/300\n",
      "1530/1530 [==============================] - 0s 298us/step - loss: 0.5331 - acc: 0.9418 - val_loss: 10.4926 - val_acc: 0.0000e+00\n",
      "Epoch 122/300\n",
      "1530/1530 [==============================] - 0s 297us/step - loss: 0.5198 - acc: 0.9477 - val_loss: 10.5540 - val_acc: 0.0000e+00\n",
      "Epoch 123/300\n",
      "1530/1530 [==============================] - 0s 298us/step - loss: 0.5106 - acc: 0.9529 - val_loss: 10.5355 - val_acc: 0.0000e+00\n",
      "Epoch 124/300\n",
      "1530/1530 [==============================] - 0s 293us/step - loss: 0.5071 - acc: 0.9444 - val_loss: 10.5375 - val_acc: 0.0000e+00\n",
      "Epoch 125/300\n",
      "1530/1530 [==============================] - 0s 296us/step - loss: 0.5004 - acc: 0.9529 - val_loss: 10.5591 - val_acc: 0.0000e+00\n",
      "Epoch 126/300\n",
      "1530/1530 [==============================] - 0s 295us/step - loss: 0.4943 - acc: 0.9471 - val_loss: 10.5167 - val_acc: 0.0000e+00\n",
      "Epoch 127/300\n",
      "1530/1530 [==============================] - 0s 291us/step - loss: 0.4754 - acc: 0.9556 - val_loss: 10.5603 - val_acc: 0.0000e+00\n",
      "Epoch 128/300\n",
      "1530/1530 [==============================] - 0s 304us/step - loss: 0.4821 - acc: 0.9503 - val_loss: 10.3830 - val_acc: 0.0000e+00\n",
      "Epoch 129/300\n",
      "1530/1530 [==============================] - 0s 295us/step - loss: 0.4785 - acc: 0.9523 - val_loss: 10.6139 - val_acc: 0.0000e+00\n",
      "Epoch 130/300\n",
      "1530/1530 [==============================] - 0s 294us/step - loss: 0.4584 - acc: 0.9575 - val_loss: 10.5507 - val_acc: 0.0000e+00\n",
      "Epoch 131/300\n",
      "1530/1530 [==============================] - 0s 294us/step - loss: 0.4485 - acc: 0.9601 - val_loss: 10.6513 - val_acc: 0.0000e+00\n",
      "Epoch 132/300\n",
      "1530/1530 [==============================] - 0s 300us/step - loss: 0.4441 - acc: 0.9582 - val_loss: 10.4984 - val_acc: 0.0000e+00\n",
      "Epoch 133/300\n",
      "1530/1530 [==============================] - 0s 296us/step - loss: 0.4421 - acc: 0.9536 - val_loss: 10.5555 - val_acc: 0.0058\n",
      "Epoch 134/300\n",
      "1530/1530 [==============================] - 0s 296us/step - loss: 0.4345 - acc: 0.9614 - val_loss: 10.6294 - val_acc: 0.0000e+00\n",
      "Epoch 135/300\n",
      "1530/1530 [==============================] - 0s 295us/step - loss: 0.4259 - acc: 0.9595 - val_loss: 10.5387 - val_acc: 0.0000e+00\n",
      "Epoch 136/300\n",
      "1530/1530 [==============================] - 0s 291us/step - loss: 0.4184 - acc: 0.9693 - val_loss: 10.5137 - val_acc: 0.0000e+00\n",
      "Epoch 137/300\n",
      "1530/1530 [==============================] - 0s 302us/step - loss: 0.4101 - acc: 0.9673 - val_loss: 10.6607 - val_acc: 0.0000e+00\n",
      "Epoch 138/300\n",
      "1530/1530 [==============================] - 0s 311us/step - loss: 0.4036 - acc: 0.9673 - val_loss: 10.6031 - val_acc: 0.0000e+00\n",
      "Epoch 139/300\n",
      "1530/1530 [==============================] - 0s 297us/step - loss: 0.3955 - acc: 0.9699 - val_loss: 10.5289 - val_acc: 0.0058\n",
      "Epoch 140/300\n",
      "1530/1530 [==============================] - 0s 300us/step - loss: 0.3992 - acc: 0.9634 - val_loss: 10.3694 - val_acc: 0.0058\n",
      "Epoch 141/300\n",
      "1530/1530 [==============================] - 0s 300us/step - loss: 0.3870 - acc: 0.9673 - val_loss: 10.8090 - val_acc: 0.0000e+00\n",
      "Epoch 142/300\n",
      "1530/1530 [==============================] - 0s 302us/step - loss: 0.3812 - acc: 0.9660 - val_loss: 10.5696 - val_acc: 0.0000e+00\n",
      "Epoch 143/300\n",
      "1530/1530 [==============================] - 0s 302us/step - loss: 0.3767 - acc: 0.9719 - val_loss: 10.4999 - val_acc: 0.0117\n",
      "Epoch 144/300\n",
      "1530/1530 [==============================] - 0s 295us/step - loss: 0.3711 - acc: 0.9680 - val_loss: 10.6004 - val_acc: 0.0117\n",
      "Epoch 145/300\n",
      "1530/1530 [==============================] - 0s 296us/step - loss: 0.3609 - acc: 0.9739 - val_loss: 10.8165 - val_acc: 0.0000e+00\n",
      "Epoch 146/300\n",
      "1530/1530 [==============================] - 0s 294us/step - loss: 0.3581 - acc: 0.9706 - val_loss: 10.8511 - val_acc: 0.0000e+00\n",
      "Epoch 147/300\n",
      "1530/1530 [==============================] - 0s 295us/step - loss: 0.3548 - acc: 0.9712 - val_loss: 10.5940 - val_acc: 0.0000e+00\n",
      "Epoch 148/300\n",
      "1530/1530 [==============================] - 0s 293us/step - loss: 0.3497 - acc: 0.9725 - val_loss: 10.7399 - val_acc: 0.0000e+00\n",
      "Epoch 149/300\n",
      "1530/1530 [==============================] - 0s 294us/step - loss: 0.3382 - acc: 0.9725 - val_loss: 10.7515 - val_acc: 0.0000e+00\n",
      "Epoch 150/300\n",
      "1530/1530 [==============================] - 0s 303us/step - loss: 0.3369 - acc: 0.9771 - val_loss: 10.5433 - val_acc: 0.0000e+00\n",
      "Epoch 151/300\n",
      "1530/1530 [==============================] - 0s 295us/step - loss: 0.3371 - acc: 0.9771 - val_loss: 10.7595 - val_acc: 0.0000e+00\n",
      "Epoch 152/300\n",
      "1530/1530 [==============================] - 0s 296us/step - loss: 0.3257 - acc: 0.9765 - val_loss: 10.6137 - val_acc: 0.0058\n",
      "Epoch 153/300\n",
      "1530/1530 [==============================] - 0s 297us/step - loss: 0.3222 - acc: 0.9784 - val_loss: 10.6949 - val_acc: 0.0058\n",
      "Epoch 154/300\n",
      "1530/1530 [==============================] - 0s 300us/step - loss: 0.3108 - acc: 0.9784 - val_loss: 10.5876 - val_acc: 0.0175\n",
      "Epoch 155/300\n",
      "1530/1530 [==============================] - 0s 292us/step - loss: 0.3117 - acc: 0.9778 - val_loss: 10.6410 - val_acc: 0.0058\n",
      "Epoch 156/300\n",
      "1530/1530 [==============================] - 0s 301us/step - loss: 0.3041 - acc: 0.9804 - val_loss: 10.7979 - val_acc: 0.0000e+00\n",
      "Epoch 157/300\n",
      "1530/1530 [==============================] - 0s 297us/step - loss: 0.3052 - acc: 0.9765 - val_loss: 10.9127 - val_acc: 0.0000e+00\n",
      "Epoch 158/300\n",
      "1530/1530 [==============================] - 0s 294us/step - loss: 0.2989 - acc: 0.9824 - val_loss: 10.8366 - val_acc: 0.0000e+00\n",
      "Epoch 159/300\n",
      "1530/1530 [==============================] - 0s 302us/step - loss: 0.2941 - acc: 0.9778 - val_loss: 10.6588 - val_acc: 0.0058\n",
      "Epoch 160/300\n",
      "1530/1530 [==============================] - 0s 297us/step - loss: 0.2885 - acc: 0.9837 - val_loss: 10.6612 - val_acc: 0.0000e+00\n",
      "Epoch 161/300\n",
      "1530/1530 [==============================] - 0s 297us/step - loss: 0.2964 - acc: 0.9765 - val_loss: 10.8576 - val_acc: 0.0000e+00\n",
      "Epoch 162/300\n",
      "1530/1530 [==============================] - 0s 296us/step - loss: 0.2767 - acc: 0.9824 - val_loss: 10.7070 - val_acc: 0.0058\n",
      "Epoch 163/300\n",
      "1530/1530 [==============================] - 0s 295us/step - loss: 0.2757 - acc: 0.9810 - val_loss: 10.7385 - val_acc: 0.0058\n",
      "Epoch 164/300\n",
      "1530/1530 [==============================] - 0s 298us/step - loss: 0.2673 - acc: 0.9850 - val_loss: 10.7683 - val_acc: 0.0058\n",
      "Epoch 165/300\n",
      "1530/1530 [==============================] - 0s 299us/step - loss: 0.2641 - acc: 0.9817 - val_loss: 10.7966 - val_acc: 0.0058\n",
      "Epoch 166/300\n",
      "1530/1530 [==============================] - 0s 295us/step - loss: 0.2626 - acc: 0.9869 - val_loss: 10.6863 - val_acc: 0.0058\n",
      "Epoch 167/300\n",
      "1530/1530 [==============================] - 0s 305us/step - loss: 0.2503 - acc: 0.9882 - val_loss: 10.8184 - val_acc: 0.0000e+00\n",
      "Epoch 168/300\n",
      "1530/1530 [==============================] - 0s 296us/step - loss: 0.2537 - acc: 0.9830 - val_loss: 10.9180 - val_acc: 0.0000e+00\n",
      "Epoch 169/300\n",
      "1530/1530 [==============================] - 0s 291us/step - loss: 0.2503 - acc: 0.9843 - val_loss: 10.8516 - val_acc: 0.0000e+00\n",
      "Epoch 170/300\n",
      "1530/1530 [==============================] - 0s 303us/step - loss: 0.2468 - acc: 0.9876 - val_loss: 10.7644 - val_acc: 0.0000e+00\n",
      "Epoch 171/300\n",
      "1530/1530 [==============================] - 0s 294us/step - loss: 0.2394 - acc: 0.9889 - val_loss: 10.8368 - val_acc: 0.0058\n",
      "Epoch 172/300\n",
      "1530/1530 [==============================] - 0s 289us/step - loss: 0.2342 - acc: 0.9856 - val_loss: 10.6951 - val_acc: 0.0175\n",
      "Epoch 173/300\n",
      "1530/1530 [==============================] - 0s 297us/step - loss: 0.2320 - acc: 0.9876 - val_loss: 10.8918 - val_acc: 0.0000e+00\n",
      "Epoch 174/300\n",
      "1530/1530 [==============================] - 0s 286us/step - loss: 0.2374 - acc: 0.9843 - val_loss: 10.7317 - val_acc: 0.0117\n",
      "Epoch 175/300\n",
      "1530/1530 [==============================] - 0s 300us/step - loss: 0.2280 - acc: 0.9902 - val_loss: 10.9591 - val_acc: 0.0000e+00\n",
      "Epoch 176/300\n",
      "1530/1530 [==============================] - 0s 287us/step - loss: 0.2237 - acc: 0.9869 - val_loss: 10.9198 - val_acc: 0.0058\n",
      "Epoch 177/300\n",
      "1530/1530 [==============================] - 0s 294us/step - loss: 0.2205 - acc: 0.9876 - val_loss: 10.8070 - val_acc: 0.0000e+00\n",
      "Epoch 178/300\n",
      "1530/1530 [==============================] - 0s 294us/step - loss: 0.2148 - acc: 0.9895 - val_loss: 10.7459 - val_acc: 0.0058\n",
      "Epoch 179/300\n",
      "1530/1530 [==============================] - 0s 294us/step - loss: 0.2142 - acc: 0.9889 - val_loss: 10.8850 - val_acc: 0.0000e+00\n",
      "Epoch 180/300\n",
      "1530/1530 [==============================] - 0s 294us/step - loss: 0.2122 - acc: 0.9882 - val_loss: 11.0076 - val_acc: 0.0058\n",
      "Epoch 181/300\n",
      "1530/1530 [==============================] - 0s 304us/step - loss: 0.2054 - acc: 0.9863 - val_loss: 11.0328 - val_acc: 0.0000e+00\n",
      "Epoch 182/300\n",
      "1530/1530 [==============================] - 0s 324us/step - loss: 0.2024 - acc: 0.9889 - val_loss: 10.7417 - val_acc: 0.0117\n",
      "Epoch 183/300\n",
      "1530/1530 [==============================] - 0s 294us/step - loss: 0.1968 - acc: 0.9908 - val_loss: 10.7084 - val_acc: 0.0175\n",
      "Epoch 184/300\n",
      "1530/1530 [==============================] - 0s 297us/step - loss: 0.2066 - acc: 0.9856 - val_loss: 10.8602 - val_acc: 0.0175\n",
      "Epoch 185/300\n",
      "1530/1530 [==============================] - 0s 295us/step - loss: 0.1961 - acc: 0.9889 - val_loss: 10.8666 - val_acc: 0.0058\n",
      "Epoch 186/300\n",
      "1530/1530 [==============================] - 0s 291us/step - loss: 0.1891 - acc: 0.9902 - val_loss: 10.8799 - val_acc: 0.0000e+00\n",
      "Epoch 187/300\n",
      "1530/1530 [==============================] - 0s 304us/step - loss: 0.1902 - acc: 0.9876 - val_loss: 10.9640 - val_acc: 0.0000e+00\n",
      "Epoch 188/300\n",
      "1530/1530 [==============================] - 0s 294us/step - loss: 0.1815 - acc: 0.9882 - val_loss: 10.6801 - val_acc: 0.0175\n",
      "Epoch 189/300\n",
      "1530/1530 [==============================] - 0s 292us/step - loss: 0.1795 - acc: 0.9889 - val_loss: 10.8819 - val_acc: 0.0000e+00\n",
      "Epoch 190/300\n",
      "1530/1530 [==============================] - 0s 294us/step - loss: 0.1776 - acc: 0.9902 - val_loss: 10.9548 - val_acc: 0.0000e+00\n",
      "Epoch 191/300\n",
      "1530/1530 [==============================] - 0s 294us/step - loss: 0.1744 - acc: 0.9935 - val_loss: 10.8958 - val_acc: 0.0058\n",
      "Epoch 192/300\n",
      "1530/1530 [==============================] - 0s 291us/step - loss: 0.1686 - acc: 0.9928 - val_loss: 10.6950 - val_acc: 0.0175\n",
      "Epoch 193/300\n",
      "1530/1530 [==============================] - 0s 295us/step - loss: 0.1723 - acc: 0.9889 - val_loss: 10.8777 - val_acc: 0.0058\n",
      "Epoch 194/300\n",
      "1530/1530 [==============================] - 0s 293us/step - loss: 0.1626 - acc: 0.9928 - val_loss: 10.8254 - val_acc: 0.0175\n",
      "Epoch 195/300\n",
      "1530/1530 [==============================] - 0s 296us/step - loss: 0.1616 - acc: 0.9928 - val_loss: 11.0226 - val_acc: 0.0000e+00\n",
      "Epoch 196/300\n",
      "1530/1530 [==============================] - 0s 300us/step - loss: 0.1608 - acc: 0.9882 - val_loss: 11.1639 - val_acc: 0.0000e+00\n",
      "Epoch 197/300\n",
      "1530/1530 [==============================] - 0s 295us/step - loss: 0.1573 - acc: 0.9948 - val_loss: 10.6884 - val_acc: 0.0175\n",
      "Epoch 198/300\n",
      "1530/1530 [==============================] - 0s 295us/step - loss: 0.1567 - acc: 0.9915 - val_loss: 10.5469 - val_acc: 0.0234\n",
      "Epoch 199/300\n",
      "1530/1530 [==============================] - 0s 294us/step - loss: 0.1541 - acc: 0.9928 - val_loss: 10.7034 - val_acc: 0.0234\n",
      "Epoch 200/300\n",
      "1530/1530 [==============================] - 0s 294us/step - loss: 0.1539 - acc: 0.9908 - val_loss: 10.9469 - val_acc: 0.0000e+00\n",
      "Epoch 201/300\n",
      "1530/1530 [==============================] - 0s 300us/step - loss: 0.1468 - acc: 0.9928 - val_loss: 10.8555 - val_acc: 0.0058\n",
      "Epoch 202/300\n",
      "1530/1530 [==============================] - 0s 297us/step - loss: 0.1444 - acc: 0.9941 - val_loss: 10.9944 - val_acc: 0.0000e+00\n",
      "Epoch 203/300\n",
      "1530/1530 [==============================] - 0s 289us/step - loss: 0.1441 - acc: 0.9915 - val_loss: 10.7864 - val_acc: 0.0175\n",
      "Epoch 204/300\n",
      "1530/1530 [==============================] - 0s 296us/step - loss: 0.1455 - acc: 0.9935 - val_loss: 11.1081 - val_acc: 0.0000e+00\n",
      "Epoch 205/300\n",
      "1530/1530 [==============================] - 0s 297us/step - loss: 0.1452 - acc: 0.9895 - val_loss: 10.8802 - val_acc: 0.0058\n",
      "Epoch 206/300\n",
      "1530/1530 [==============================] - 0s 293us/step - loss: 0.1429 - acc: 0.9928 - val_loss: 11.0108 - val_acc: 0.0000e+00\n",
      "Epoch 207/300\n",
      "1530/1530 [==============================] - 0s 299us/step - loss: 0.1359 - acc: 0.9941 - val_loss: 10.8154 - val_acc: 0.0117\n",
      "Epoch 208/300\n",
      "1530/1530 [==============================] - 0s 297us/step - loss: 0.1321 - acc: 0.9915 - val_loss: 10.7280 - val_acc: 0.0175\n",
      "Epoch 209/300\n",
      "1530/1530 [==============================] - 0s 295us/step - loss: 0.1292 - acc: 0.9928 - val_loss: 11.1254 - val_acc: 0.0000e+00\n",
      "Epoch 210/300\n",
      "1530/1530 [==============================] - 0s 297us/step - loss: 0.1286 - acc: 0.9928 - val_loss: 10.7896 - val_acc: 0.0175\n",
      "Epoch 211/300\n",
      "1530/1530 [==============================] - 0s 294us/step - loss: 0.1260 - acc: 0.9961 - val_loss: 10.7690 - val_acc: 0.0175\n",
      "Epoch 212/300\n",
      "1530/1530 [==============================] - 0s 292us/step - loss: 0.1323 - acc: 0.9928 - val_loss: 10.9186 - val_acc: 0.0175\n",
      "Epoch 213/300\n",
      "1530/1530 [==============================] - 0s 298us/step - loss: 0.1233 - acc: 0.9928 - val_loss: 10.7757 - val_acc: 0.0234\n",
      "Epoch 214/300\n",
      "1530/1530 [==============================] - 0s 296us/step - loss: 0.1242 - acc: 0.9935 - val_loss: 10.9537 - val_acc: 0.0058\n",
      "Epoch 215/300\n",
      "1530/1530 [==============================] - 0s 297us/step - loss: 0.1178 - acc: 0.9961 - val_loss: 11.1188 - val_acc: 0.0117\n",
      "Epoch 216/300\n",
      "1530/1530 [==============================] - 0s 295us/step - loss: 0.1144 - acc: 0.9935 - val_loss: 10.8532 - val_acc: 0.0175\n",
      "Epoch 217/300\n",
      "1530/1530 [==============================] - 0s 297us/step - loss: 0.1148 - acc: 0.9948 - val_loss: 10.6580 - val_acc: 0.0234\n",
      "Epoch 218/300\n",
      "1530/1530 [==============================] - 0s 295us/step - loss: 0.1151 - acc: 0.9922 - val_loss: 10.7739 - val_acc: 0.0234\n",
      "Epoch 219/300\n",
      "1530/1530 [==============================] - 0s 294us/step - loss: 0.1120 - acc: 0.9961 - val_loss: 10.9343 - val_acc: 0.0058\n",
      "Epoch 220/300\n",
      "1530/1530 [==============================] - 0s 294us/step - loss: 0.1099 - acc: 0.9941 - val_loss: 10.8770 - val_acc: 0.0117\n",
      "Epoch 221/300\n",
      "1530/1530 [==============================] - 0s 304us/step - loss: 0.1074 - acc: 0.9954 - val_loss: 10.8519 - val_acc: 0.0175\n",
      "Epoch 222/300\n",
      "1530/1530 [==============================] - 0s 294us/step - loss: 0.1064 - acc: 0.9948 - val_loss: 10.9361 - val_acc: 0.0058\n",
      "Epoch 223/300\n",
      "1530/1530 [==============================] - 0s 294us/step - loss: 0.1053 - acc: 0.9961 - val_loss: 11.0020 - val_acc: 0.0117\n",
      "Epoch 224/300\n",
      "1530/1530 [==============================] - 0s 294us/step - loss: 0.1055 - acc: 0.9941 - val_loss: 11.1055 - val_acc: 0.0058\n",
      "Epoch 225/300\n",
      "1530/1530 [==============================] - 0s 298us/step - loss: 0.1011 - acc: 0.9954 - val_loss: 10.7633 - val_acc: 0.0234\n",
      "Epoch 226/300\n",
      "1530/1530 [==============================] - 0s 294us/step - loss: 0.0990 - acc: 0.9954 - val_loss: 10.8390 - val_acc: 0.0175\n",
      "Epoch 227/300\n",
      "1530/1530 [==============================] - 0s 298us/step - loss: 0.1003 - acc: 0.9941 - val_loss: 11.0618 - val_acc: 0.0058\n",
      "Epoch 228/300\n",
      "1530/1530 [==============================] - 0s 296us/step - loss: 0.1014 - acc: 0.9941 - val_loss: 11.0850 - val_acc: 0.0058\n",
      "Epoch 229/300\n",
      "1530/1530 [==============================] - 0s 295us/step - loss: 0.1020 - acc: 0.9922 - val_loss: 10.9983 - val_acc: 0.0117\n",
      "Epoch 230/300\n"
     ]
    },
    {
     "name": "stdout",
     "output_type": "stream",
     "text": [
      "1530/1530 [==============================] - 0s 294us/step - loss: 0.0938 - acc: 0.9967 - val_loss: 10.8976 - val_acc: 0.0175\n",
      "Epoch 231/300\n",
      "1530/1530 [==============================] - 0s 292us/step - loss: 0.0964 - acc: 0.9961 - val_loss: 10.8550 - val_acc: 0.0175\n",
      "Epoch 232/300\n",
      "1530/1530 [==============================] - 0s 297us/step - loss: 0.0911 - acc: 0.9948 - val_loss: 10.6320 - val_acc: 0.0234\n",
      "Epoch 233/300\n",
      "1530/1530 [==============================] - 0s 291us/step - loss: 0.0915 - acc: 0.9948 - val_loss: 11.0133 - val_acc: 0.0117\n",
      "Epoch 234/300\n",
      "1530/1530 [==============================] - 0s 296us/step - loss: 0.0914 - acc: 0.9948 - val_loss: 11.1786 - val_acc: 0.0117\n",
      "Epoch 235/300\n",
      "1530/1530 [==============================] - 0s 313us/step - loss: 0.0863 - acc: 0.9954 - val_loss: 11.0034 - val_acc: 0.0117\n",
      "Epoch 236/300\n",
      "1530/1530 [==============================] - 0s 287us/step - loss: 0.0854 - acc: 0.9961 - val_loss: 10.9374 - val_acc: 0.0175\n",
      "Epoch 237/300\n",
      "1530/1530 [==============================] - 0s 300us/step - loss: 0.0842 - acc: 0.9961 - val_loss: 11.1207 - val_acc: 0.0117\n",
      "Epoch 238/300\n",
      "1530/1530 [==============================] - 0s 295us/step - loss: 0.0840 - acc: 0.9954 - val_loss: 11.0288 - val_acc: 0.0000e+00\n",
      "Epoch 239/300\n",
      "1530/1530 [==============================] - 0s 291us/step - loss: 0.0848 - acc: 0.9948 - val_loss: 11.3066 - val_acc: 0.0000e+00\n",
      "Epoch 240/300\n",
      "1530/1530 [==============================] - 0s 294us/step - loss: 0.0802 - acc: 0.9961 - val_loss: 10.6996 - val_acc: 0.0234\n",
      "Epoch 241/300\n",
      "1530/1530 [==============================] - 0s 288us/step - loss: 0.0794 - acc: 0.9961 - val_loss: 10.8803 - val_acc: 0.0175\n",
      "Epoch 242/300\n",
      "1530/1530 [==============================] - 0s 297us/step - loss: 0.0809 - acc: 0.9961 - val_loss: 10.8160 - val_acc: 0.0175\n",
      "Epoch 243/300\n",
      "1530/1530 [==============================] - 0s 290us/step - loss: 0.0759 - acc: 0.9967 - val_loss: 11.1541 - val_acc: 0.0000e+00\n",
      "Epoch 244/300\n",
      "1530/1530 [==============================] - 0s 293us/step - loss: 0.0767 - acc: 0.9961 - val_loss: 10.9569 - val_acc: 0.0175\n",
      "Epoch 245/300\n",
      "1530/1530 [==============================] - 0s 290us/step - loss: 0.0782 - acc: 0.9974 - val_loss: 10.9792 - val_acc: 0.0058\n",
      "Epoch 246/300\n",
      "1530/1530 [==============================] - 0s 286us/step - loss: 0.0748 - acc: 0.9954 - val_loss: 11.1558 - val_acc: 0.0058\n",
      "Epoch 247/300\n",
      "1530/1530 [==============================] - 0s 296us/step - loss: 0.0708 - acc: 0.9967 - val_loss: 11.0894 - val_acc: 0.0117\n",
      "Epoch 248/300\n",
      "1530/1530 [==============================] - 0s 297us/step - loss: 0.0716 - acc: 0.9961 - val_loss: 11.1849 - val_acc: 0.0058\n",
      "Epoch 249/300\n",
      "1530/1530 [==============================] - 0s 298us/step - loss: 0.0750 - acc: 0.9948 - val_loss: 11.2958 - val_acc: 0.0000e+00\n",
      "Epoch 250/300\n",
      "1530/1530 [==============================] - 1s 328us/step - loss: 0.0726 - acc: 0.9954 - val_loss: 11.0438 - val_acc: 0.0117\n",
      "Epoch 251/300\n",
      "1530/1530 [==============================] - 0s 299us/step - loss: 0.0673 - acc: 0.9980 - val_loss: 11.0782 - val_acc: 0.0058\n",
      "Epoch 252/300\n",
      "1530/1530 [==============================] - 0s 286us/step - loss: 0.0721 - acc: 0.9974 - val_loss: 10.9815 - val_acc: 0.0175\n",
      "Epoch 253/300\n",
      "1530/1530 [==============================] - 0s 283us/step - loss: 0.0658 - acc: 0.9967 - val_loss: 11.1529 - val_acc: 0.0117\n",
      "Epoch 254/300\n",
      "1530/1530 [==============================] - 1s 359us/step - loss: 0.0645 - acc: 0.9961 - val_loss: 10.9971 - val_acc: 0.0058\n",
      "Epoch 255/300\n",
      "1530/1530 [==============================] - 0s 302us/step - loss: 0.0679 - acc: 0.9948 - val_loss: 11.0187 - val_acc: 0.0234\n",
      "Epoch 256/300\n",
      "1530/1530 [==============================] - 0s 303us/step - loss: 0.0639 - acc: 0.9974 - val_loss: 11.0185 - val_acc: 0.0117\n",
      "Epoch 257/300\n",
      "1530/1530 [==============================] - 0s 296us/step - loss: 0.0600 - acc: 0.9974 - val_loss: 11.0743 - val_acc: 0.0058\n",
      "Epoch 258/300\n",
      "1530/1530 [==============================] - 0s 286us/step - loss: 0.0639 - acc: 0.9954 - val_loss: 10.8662 - val_acc: 0.0175\n",
      "Epoch 259/300\n",
      "1530/1530 [==============================] - 0s 289us/step - loss: 0.0586 - acc: 0.9974 - val_loss: 10.8492 - val_acc: 0.0234\n",
      "Epoch 260/300\n",
      "1530/1530 [==============================] - 0s 286us/step - loss: 0.0605 - acc: 0.9967 - val_loss: 11.0515 - val_acc: 0.0117\n",
      "Epoch 261/300\n",
      "1530/1530 [==============================] - 0s 317us/step - loss: 0.0620 - acc: 0.9954 - val_loss: 10.9919 - val_acc: 0.0175\n",
      "Epoch 262/300\n",
      "1530/1530 [==============================] - 0s 305us/step - loss: 0.0612 - acc: 0.9974 - val_loss: 11.0425 - val_acc: 0.0175\n",
      "Epoch 263/300\n",
      "1530/1530 [==============================] - 0s 278us/step - loss: 0.0571 - acc: 0.9967 - val_loss: 11.0321 - val_acc: 0.0175\n",
      "Epoch 264/300\n",
      "1530/1530 [==============================] - 0s 273us/step - loss: 0.0557 - acc: 0.9961 - val_loss: 11.0916 - val_acc: 0.0117\n",
      "Epoch 265/300\n",
      "1530/1530 [==============================] - 0s 297us/step - loss: 0.0542 - acc: 0.9967 - val_loss: 11.0233 - val_acc: 0.0175\n",
      "Epoch 266/300\n",
      "1530/1530 [==============================] - 0s 295us/step - loss: 0.0576 - acc: 0.9967 - val_loss: 11.2928 - val_acc: 0.0058\n",
      "Epoch 267/300\n",
      "1530/1530 [==============================] - 0s 297us/step - loss: 0.0566 - acc: 0.9954 - val_loss: 11.0211 - val_acc: 0.0175\n",
      "Epoch 268/300\n",
      "1530/1530 [==============================] - 0s 290us/step - loss: 0.0514 - acc: 0.9980 - val_loss: 11.1128 - val_acc: 0.0117\n",
      "Epoch 269/300\n",
      "1530/1530 [==============================] - 0s 280us/step - loss: 0.0519 - acc: 0.9961 - val_loss: 11.1444 - val_acc: 0.0117\n",
      "Epoch 270/300\n",
      "1530/1530 [==============================] - 0s 296us/step - loss: 0.0521 - acc: 0.9967 - val_loss: 11.2219 - val_acc: 0.0058\n",
      "Epoch 271/300\n",
      "1530/1530 [==============================] - 0s 308us/step - loss: 0.0541 - acc: 0.9974 - val_loss: 11.3019 - val_acc: 0.0117\n",
      "Epoch 272/300\n",
      "1530/1530 [==============================] - 0s 324us/step - loss: 0.0503 - acc: 0.9974 - val_loss: 11.3252 - val_acc: 0.0058\n",
      "Epoch 273/300\n",
      "1530/1530 [==============================] - 1s 351us/step - loss: 0.0535 - acc: 0.9954 - val_loss: 10.7567 - val_acc: 0.0234\n",
      "Epoch 274/300\n",
      "1530/1530 [==============================] - 0s 309us/step - loss: 0.0550 - acc: 0.9967 - val_loss: 11.1014 - val_acc: 0.0058\n",
      "Epoch 275/300\n",
      "1530/1530 [==============================] - 0s 315us/step - loss: 0.0508 - acc: 0.9967 - val_loss: 11.1705 - val_acc: 0.0117\n",
      "Epoch 276/300\n",
      "1530/1530 [==============================] - 0s 323us/step - loss: 0.0499 - acc: 0.9961 - val_loss: 11.0657 - val_acc: 0.0117\n",
      "Epoch 277/300\n",
      "1530/1530 [==============================] - 1s 364us/step - loss: 0.0457 - acc: 0.9974 - val_loss: 11.2086 - val_acc: 0.0117\n",
      "Epoch 278/300\n",
      "1530/1530 [==============================] - 1s 341us/step - loss: 0.0466 - acc: 0.9980 - val_loss: 10.8340 - val_acc: 0.0234\n",
      "Epoch 279/300\n",
      "1530/1530 [==============================] - 1s 335us/step - loss: 0.0486 - acc: 0.9967 - val_loss: 11.0740 - val_acc: 0.0175\n",
      "Epoch 280/300\n",
      "1530/1530 [==============================] - 0s 306us/step - loss: 0.0446 - acc: 0.9974 - val_loss: 11.0421 - val_acc: 0.0117\n",
      "Epoch 281/300\n",
      "1530/1530 [==============================] - 0s 307us/step - loss: 0.0449 - acc: 0.9980 - val_loss: 11.2515 - val_acc: 0.0175\n",
      "Epoch 282/300\n",
      "1530/1530 [==============================] - 0s 318us/step - loss: 0.0443 - acc: 0.9961 - val_loss: 11.1197 - val_acc: 0.0175\n",
      "Epoch 283/300\n",
      "1530/1530 [==============================] - 0s 302us/step - loss: 0.0500 - acc: 0.9954 - val_loss: 10.8369 - val_acc: 0.0234\n",
      "Epoch 284/300\n",
      "1530/1530 [==============================] - 0s 291us/step - loss: 0.0423 - acc: 0.9987 - val_loss: 11.1605 - val_acc: 0.0175\n",
      "Epoch 285/300\n",
      "1530/1530 [==============================] - 0s 294us/step - loss: 0.0401 - acc: 0.9967 - val_loss: 10.9124 - val_acc: 0.0234\n",
      "Epoch 286/300\n",
      "1530/1530 [==============================] - 0s 294us/step - loss: 0.0405 - acc: 0.9980 - val_loss: 11.2983 - val_acc: 0.0175\n",
      "Epoch 287/300\n",
      "1530/1530 [==============================] - 0s 315us/step - loss: 0.0412 - acc: 0.9967 - val_loss: 11.3701 - val_acc: 0.0058\n",
      "Epoch 288/300\n",
      "1530/1530 [==============================] - 0s 310us/step - loss: 0.0407 - acc: 0.9967 - val_loss: 11.0677 - val_acc: 0.0175\n",
      "Epoch 289/300\n",
      "1530/1530 [==============================] - 1s 341us/step - loss: 0.0433 - acc: 0.9961 - val_loss: 11.1377 - val_acc: 0.0175\n",
      "Epoch 290/300\n",
      "1530/1530 [==============================] - 0s 327us/step - loss: 0.0419 - acc: 0.9961 - val_loss: 11.1565 - val_acc: 0.0117\n",
      "Epoch 291/300\n",
      "1530/1530 [==============================] - 1s 348us/step - loss: 0.0388 - acc: 0.9961 - val_loss: 11.3705 - val_acc: 0.0117\n",
      "Epoch 292/300\n",
      "1530/1530 [==============================] - 1s 358us/step - loss: 0.0414 - acc: 0.9974 - val_loss: 11.3372 - val_acc: 0.0117\n",
      "Epoch 293/300\n",
      "1530/1530 [==============================] - 1s 340us/step - loss: 0.0375 - acc: 0.9967 - val_loss: 11.0789 - val_acc: 0.0117\n",
      "Epoch 294/300\n",
      "1530/1530 [==============================] - 1s 330us/step - loss: 0.0393 - acc: 0.9967 - val_loss: 11.0422 - val_acc: 0.0175\n",
      "Epoch 295/300\n",
      "1530/1530 [==============================] - 0s 311us/step - loss: 0.0350 - acc: 0.9974 - val_loss: 11.4638 - val_acc: 0.0117\n",
      "Epoch 296/300\n",
      "1530/1530 [==============================] - 0s 324us/step - loss: 0.0367 - acc: 0.9967 - val_loss: 11.1662 - val_acc: 0.0175\n",
      "Epoch 297/300\n",
      "1530/1530 [==============================] - 0s 320us/step - loss: 0.0342 - acc: 0.9974 - val_loss: 11.1978 - val_acc: 0.0234\n",
      "Epoch 298/300\n",
      "1530/1530 [==============================] - 1s 336us/step - loss: 0.0354 - acc: 0.9974 - val_loss: 11.0248 - val_acc: 0.0175\n",
      "Epoch 299/300\n",
      "1530/1530 [==============================] - 1s 351us/step - loss: 0.0377 - acc: 0.9974 - val_loss: 11.1377 - val_acc: 0.0234\n",
      "Epoch 300/300\n",
      "1530/1530 [==============================] - 0s 298us/step - loss: 0.0365 - acc: 0.9974 - val_loss: 11.1607 - val_acc: 0.0175\n"
     ]
    }
   ],
   "source": [
    "history = model.fit(X,y_cat,epochs=300,validation_split=0.1)"
   ]
  },
  {
   "cell_type": "code",
   "execution_count": 22,
   "metadata": {},
   "outputs": [
    {
     "name": "stdout",
     "output_type": "stream",
     "text": [
      "1701/1701 [==============================] - 0s 117us/step\n"
     ]
    },
    {
     "data": {
      "text/plain": [
       "[1.1486055376528292, 0.9000587889476779]"
      ]
     },
     "execution_count": 22,
     "metadata": {},
     "output_type": "execute_result"
    }
   ],
   "source": [
    "model.evaluate(X,y_cat)"
   ]
  },
  {
   "cell_type": "code",
   "execution_count": 24,
   "metadata": {},
   "outputs": [],
   "source": [
    "model.save('model.h5')"
   ]
  },
  {
   "cell_type": "code",
   "execution_count": null,
   "metadata": {},
   "outputs": [],
   "source": []
  },
  {
   "cell_type": "code",
   "execution_count": null,
   "metadata": {},
   "outputs": [],
   "source": [
    "from sklearn.model_selection import train_test_split"
   ]
  },
  {
   "cell_type": "code",
   "execution_count": null,
   "metadata": {},
   "outputs": [],
   "source": [
    "X_train, X_test, y_train, y_test = train_test_split(X,y,test_size=0.2,shuffle=True)"
   ]
  },
  {
   "cell_type": "code",
   "execution_count": null,
   "metadata": {},
   "outputs": [],
   "source": [
    "X_train.shape,X_test.shape"
   ]
  },
  {
   "cell_type": "code",
   "execution_count": null,
   "metadata": {},
   "outputs": [],
   "source": []
  },
  {
   "cell_type": "code",
   "execution_count": null,
   "metadata": {},
   "outputs": [],
   "source": []
  },
  {
   "cell_type": "code",
   "execution_count": null,
   "metadata": {},
   "outputs": [],
   "source": [
    "# X_train = X_train.reshape(-1,IMAGE_WIDTH,IMAGE_HEIGHT,1)\n",
    "# X_test = X_test.reshape(-1,IMAGE_WIDTH,IMAGE_HEIGHT,1)"
   ]
  },
  {
   "cell_type": "code",
   "execution_count": null,
   "metadata": {},
   "outputs": [],
   "source": [
    "from sklearn.linear_model import LogisticRegression"
   ]
  },
  {
   "cell_type": "code",
   "execution_count": null,
   "metadata": {},
   "outputs": [],
   "source": [
    "lr_model = LogisticRegression()"
   ]
  },
  {
   "cell_type": "code",
   "execution_count": null,
   "metadata": {
    "scrolled": false
   },
   "outputs": [],
   "source": [
    "lr_model.fit(X_train,y_train)"
   ]
  },
  {
   "cell_type": "code",
   "execution_count": null,
   "metadata": {
    "scrolled": true
   },
   "outputs": [],
   "source": [
    "lr_model.score(X_test,y_test)"
   ]
  },
  {
   "cell_type": "code",
   "execution_count": null,
   "metadata": {},
   "outputs": [],
   "source": [
    "from sklearn.svm import SVC"
   ]
  },
  {
   "cell_type": "code",
   "execution_count": null,
   "metadata": {},
   "outputs": [],
   "source": [
    "svc_model = SVC()"
   ]
  },
  {
   "cell_type": "code",
   "execution_count": null,
   "metadata": {},
   "outputs": [],
   "source": [
    "svc_model.fit(X_train,y_train)"
   ]
  },
  {
   "cell_type": "code",
   "execution_count": null,
   "metadata": {},
   "outputs": [],
   "source": [
    "svc_model.score(X_test,y_test)"
   ]
  },
  {
   "cell_type": "code",
   "execution_count": null,
   "metadata": {},
   "outputs": [],
   "source": [
    "import pickle"
   ]
  },
  {
   "cell_type": "code",
   "execution_count": null,
   "metadata": {},
   "outputs": [],
   "source": [
    "pickle.dump(svc_model,open(\"model.pkl\",\"wb\"))"
   ]
  },
  {
   "cell_type": "code",
   "execution_count": null,
   "metadata": {},
   "outputs": [],
   "source": []
  },
  {
   "cell_type": "code",
   "execution_count": null,
   "metadata": {},
   "outputs": [],
   "source": []
  },
  {
   "cell_type": "code",
   "execution_count": null,
   "metadata": {},
   "outputs": [],
   "source": []
  },
  {
   "cell_type": "code",
   "execution_count": null,
   "metadata": {},
   "outputs": [],
   "source": []
  },
  {
   "cell_type": "code",
   "execution_count": null,
   "metadata": {},
   "outputs": [],
   "source": []
  },
  {
   "cell_type": "code",
   "execution_count": null,
   "metadata": {},
   "outputs": [],
   "source": []
  },
  {
   "cell_type": "code",
   "execution_count": null,
   "metadata": {},
   "outputs": [],
   "source": []
  },
  {
   "cell_type": "code",
   "execution_count": null,
   "metadata": {},
   "outputs": [],
   "source": []
  },
  {
   "cell_type": "code",
   "execution_count": null,
   "metadata": {},
   "outputs": [],
   "source": []
  },
  {
   "cell_type": "code",
   "execution_count": null,
   "metadata": {},
   "outputs": [],
   "source": []
  },
  {
   "cell_type": "code",
   "execution_count": null,
   "metadata": {},
   "outputs": [],
   "source": []
  },
  {
   "cell_type": "code",
   "execution_count": null,
   "metadata": {},
   "outputs": [],
   "source": []
  },
  {
   "cell_type": "code",
   "execution_count": null,
   "metadata": {},
   "outputs": [],
   "source": []
  },
  {
   "cell_type": "code",
   "execution_count": null,
   "metadata": {},
   "outputs": [],
   "source": []
  },
  {
   "cell_type": "code",
   "execution_count": null,
   "metadata": {},
   "outputs": [],
   "source": []
  },
  {
   "cell_type": "code",
   "execution_count": null,
   "metadata": {},
   "outputs": [],
   "source": []
  }
 ],
 "metadata": {
  "kernelspec": {
   "display_name": "Python 3",
   "language": "python",
   "name": "python3"
  },
  "language_info": {
   "codemirror_mode": {
    "name": "ipython",
    "version": 3
   },
   "file_extension": ".py",
   "mimetype": "text/x-python",
   "name": "python",
   "nbconvert_exporter": "python",
   "pygments_lexer": "ipython3",
   "version": "3.6.5"
  }
 },
 "nbformat": 4,
 "nbformat_minor": 2
}
